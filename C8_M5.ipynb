{
 "cells": [
  {
   "cell_type": "code",
   "execution_count": 9,
   "id": "891a0667-bb40-4c80-a752-98f6f84e8e89",
   "metadata": {},
   "outputs": [],
   "source": [
    "from catboost import CatBoostRegressor\n",
    "import numpy as np\n",
    "import pandas as pd\n",
    "from sklearn.model_selection import train_test_split\n",
    "from sklearn.ensemble import RandomForestRegressor\n",
    "from sklearn.metrics import mean_squared_error, r2_score,root_mean_squared_error\n",
    "from sklearn.model_selection import GridSearchCV\n",
    "from datetime import datetime"
   ]
  },
  {
   "cell_type": "markdown",
   "id": "4789f26f-c71d-4762-8543-223ead514871",
   "metadata": {},
   "source": [
    "Считаем данные, для ускорения обучения возьмем первые 500000 записей"
   ]
  },
  {
   "cell_type": "code",
   "execution_count": 10,
   "id": "faf7c63a-7e91-4aba-9bf0-73b8182500be",
   "metadata": {},
   "outputs": [
    {
     "name": "stdout",
     "output_type": "stream",
     "text": [
      "<class 'pandas.core.frame.DataFrame'>\n",
      "RangeIndex: 500000 entries, 0 to 499999\n",
      "Data columns (total 15 columns):\n",
      " #   Column  Non-Null Count   Dtype  \n",
      "---  ------  --------------   -----  \n",
      " 0   0       500000 non-null  float32\n",
      " 1   1       500000 non-null  float32\n",
      " 2   2       500000 non-null  float32\n",
      " 3   3       500000 non-null  float32\n",
      " 4   4       500000 non-null  float32\n",
      " 5   5       500000 non-null  float32\n",
      " 6   6       500000 non-null  float32\n",
      " 7   10      500000 non-null  float32\n",
      " 8   11      500000 non-null  float32\n",
      " 9   13      500000 non-null  float32\n",
      " 10  16      500000 non-null  float32\n",
      " 11  20      500000 non-null  float32\n",
      " 12  21      500000 non-null  float32\n",
      " 13  25      500000 non-null  float32\n",
      " 14  26      500000 non-null  float32\n",
      "dtypes: float32(15)\n",
      "memory usage: 28.6 MB\n"
     ]
    }
   ],
   "source": [
    "data_X = pd.read_pickle('data_X.pkl.gz',)\n",
    "data_y = pd.read_pickle('data_y.pkl.gz')\n",
    "data_X = data_X[:500000]\n",
    "data_y = data_y[:500000]\n",
    "data_X.info()"
   ]
  },
  {
   "cell_type": "markdown",
   "id": "48c7e648-0e8b-41f7-958f-5cd26648e9fe",
   "metadata": {},
   "source": [
    "Далее разобьем нашу выборку на обучающую и тестовую выборку"
   ]
  },
  {
   "cell_type": "code",
   "execution_count": 11,
   "id": "24348a66-64b0-45ba-8a75-b9477e2a85c6",
   "metadata": {},
   "outputs": [],
   "source": [
    "X_train, X_test, y_train, y_test = train_test_split(data_X, data_y, test_size=0.2, random_state=42)"
   ]
  },
  {
   "cell_type": "markdown",
   "id": "a8d0c1ca-7442-4a76-bb7a-f6eef1d24072",
   "metadata": {},
   "source": [
    "Первым из алгоритмов мы взглянем на RandomForestRegressor"
   ]
  },
  {
   "cell_type": "code",
   "execution_count": 28,
   "id": "272c5fcd-afcc-409a-95fd-5e92ddff8867",
   "metadata": {},
   "outputs": [
    {
     "name": "stderr",
     "output_type": "stream",
     "text": [
      "/home/c8/main_venv/lib/python3.11/site-packages/sklearn/base.py:1389: DataConversionWarning: A column-vector y was passed when a 1d array was expected. Please change the shape of y to (n_samples,), for example using ravel().\n",
      "  return fit_method(estimator, *args, **kwargs)\n",
      "[Parallel(n_jobs=-1)]: Using backend ThreadingBackend with 16 concurrent workers.\n",
      "[Parallel(n_jobs=-1)]: Done  18 tasks      | elapsed:   31.4s\n",
      "[Parallel(n_jobs=-1)]: Done 100 out of 100 | elapsed:  2.0min finished\n",
      "[Parallel(n_jobs=16)]: Using backend ThreadingBackend with 16 concurrent workers.\n",
      "[Parallel(n_jobs=16)]: Done  18 tasks      | elapsed:    0.3s\n"
     ]
    },
    {
     "name": "stdout",
     "output_type": "stream",
     "text": [
      "Duration: 0:01:57.836109\n",
      "Root Mean Squared Error: 687.70\n",
      "R^2 Score: 0.66\n"
     ]
    },
    {
     "name": "stderr",
     "output_type": "stream",
     "text": [
      "[Parallel(n_jobs=16)]: Done 100 out of 100 | elapsed:    1.8s finished\n"
     ]
    }
   ],
   "source": [
    "rf_regressor = RandomForestRegressor(n_estimators=100, random_state=42, verbose=1,n_jobs=-1)\n",
    "start_time = datetime.now()\n",
    "rf_regressor.fit(X_train, y_train)\n",
    "end_time = datetime.now() \n",
    "# Прогнозирование на тестовой выборке\n",
    "y_pred = rf_regressor.predict(X_test)\n",
    "\n",
    "# Оценка модели\n",
    "mse = root_mean_squared_error(y_test, y_pred)\n",
    "r2 = r2_score(y_test, y_pred)\n",
    "\n",
    "print('Duration: {}'.format(end_time - start_time))\n",
    "print(f\"Root Mean Squared Error: {mse:.2f}\")\n",
    "print(f\"R^2 Score: {r2:.2f}\")\n"
   ]
  },
  {
   "cell_type": "markdown",
   "id": "b8f99aea-046f-427e-b859-a5730339ac47",
   "metadata": {},
   "source": [
    "Следующий на очереди CatBoostRegressor"
   ]
  },
  {
   "cell_type": "code",
   "execution_count": 29,
   "id": "e5a23f0f-a7b0-4fc0-90b3-33fc60f60fe1",
   "metadata": {},
   "outputs": [
    {
     "name": "stdout",
     "output_type": "stream",
     "text": [
      "Duration: 0:00:05.476436\n",
      " Root Mean Squared Error: 675.27\n",
      "R^2 Score: 0.67\n"
     ]
    }
   ],
   "source": [
    "model = CatBoostRegressor(iterations=100, learning_rate=0.1, depth=10, verbose=0)\n",
    "start_time = datetime.now()\n",
    "model.fit(X_train, y_train)\n",
    "end_time = datetime.now() \n",
    "# Прогнозирование на тестовой выборке\n",
    "y_pred = model.predict(X_test)\n",
    "\n",
    "# Оценка модели\n",
    "mse = root_mean_squared_error(y_test, y_pred)\n",
    "r2 = r2_score(y_test, y_pred)\n",
    "    \n",
    "print('Duration: {}'.format(end_time - start_time))\n",
    "print(f\" Root Mean Squared Error: {mse:.2f}\")\n",
    "print(f\"R^2 Score: {r2:.2f}\")"
   ]
  },
  {
   "cell_type": "markdown",
   "id": "a84cfa84-e6c4-48b9-92e9-0dc5e31f29c1",
   "metadata": {},
   "source": [
    "Далее мы посмотрим на XGBRegressor"
   ]
  },
  {
   "cell_type": "code",
   "execution_count": 30,
   "id": "7a580000-eb70-4a3a-8bdc-1ca1e9588f9f",
   "metadata": {},
   "outputs": [
    {
     "name": "stdout",
     "output_type": "stream",
     "text": [
      "Duration: 0:00:00.789867\n",
      "Root Mean Squared Error: 676.87\n",
      "R^2 Score: 0.67\n"
     ]
    }
   ],
   "source": [
    "from xgboost import XGBRegressor\n",
    "model = XGBRegressor(n_estimators=100, learning_rate=0.1, max_depth=3, random_state=42)\n",
    "start_time = datetime.now()\n",
    "model.fit(X_train, y_train)\n",
    "end_time = datetime.now()   \n",
    "# Прогнозирование на тестовой выборке\n",
    "y_pred = model.predict(X_test)\n",
    "\n",
    "# Оценка модели\n",
    "mse = root_mean_squared_error(y_test, y_pred)\n",
    "r2 = r2_score(y_test, y_pred)\n",
    "print('Duration: {}'.format(end_time - start_time))\n",
    "print(f\"Root Mean Squared Error: {mse:.2f}\")\n",
    "print(f\"R^2 Score: {r2:.2f}\")"
   ]
  },
  {
   "cell_type": "markdown",
   "id": "23af60ee-52c1-47d8-92a5-32e357b16219",
   "metadata": {},
   "source": [
    "По итогу в пайплайн у нас попадает XGBRegressor, за счет своей скорости и показателя R^2 который не отличается от catboost"
   ]
  },
  {
   "cell_type": "code",
   "execution_count": 31,
   "id": "62775ec3-5761-4f71-99e6-9100305383b2",
   "metadata": {},
   "outputs": [],
   "source": [
    "def pipeline(X_path, y_path, X_path_val, y_path_val):\n",
    "    data_X = pd.read_pickle(X_path)\n",
    "    data_y = pd.read_pickle(y_path)\n",
    "    data_X_val = pd.read_pickle(X_path_val)\n",
    "    data_y_val = pd.read_pickle(y_path_val)\n",
    "    model = XGBRegressor(n_estimators=100, learning_rate=0.1, max_depth=3, random_state=42)\n",
    "    model.fit(data_X, data_y)\n",
    "    y_pred = model.predict(data_X_val)\n",
    "\n",
    "    # Оценка модели\n",
    "    rmse = root_mean_squared_error(data_y_val, y_pred)\n",
    "    r2 = r2_score(data_y_val, y_pred)\n",
    "    \n",
    "    return model,[{'R2': r2, 'RMSE': rmse}]\n",
    "    "
   ]
  },
  {
   "cell_type": "markdown",
   "id": "077bb041-bf82-4b71-9de4-6f977bb45ddd",
   "metadata": {},
   "source": [
    "Запустим наш пайплайн"
   ]
  },
  {
   "cell_type": "code",
   "execution_count": 32,
   "id": "f2fc9642-b768-452e-ab61-3470db68fde8",
   "metadata": {},
   "outputs": [
    {
     "data": {
      "text/plain": [
       "(XGBRegressor(base_score=None, booster=None, callbacks=None,\n",
       "              colsample_bylevel=None, colsample_bynode=None,\n",
       "              colsample_bytree=None, device=None, early_stopping_rounds=None,\n",
       "              enable_categorical=False, eval_metric=None, feature_types=None,\n",
       "              gamma=None, grow_policy=None, importance_type=None,\n",
       "              interaction_constraints=None, learning_rate=0.1, max_bin=None,\n",
       "              max_cat_threshold=None, max_cat_to_onehot=None,\n",
       "              max_delta_step=None, max_depth=3, max_leaves=None,\n",
       "              min_child_weight=None, missing=nan, monotone_constraints=None,\n",
       "              multi_strategy=None, n_estimators=100, n_jobs=None,\n",
       "              num_parallel_tree=None, random_state=42, ...),\n",
       " [{'R2': -0.6415066719055176, 'RMSE': 1513.1239013671875}])"
      ]
     },
     "execution_count": 32,
     "metadata": {},
     "output_type": "execute_result"
    }
   ],
   "source": [
    "result = pipeline('data_X.pkl.gz', 'data_y.pkl.gz', 'data_X_val.pkl.gz', 'data_y_val.pkl.gz')\n",
    "result"
   ]
  },
  {
   "cell_type": "markdown",
   "id": "33c3ae26-910e-4da5-9b50-40f0acc35c38",
   "metadata": {},
   "source": [
    "Увы, но итоговая точность оставляет желать лучшего"
   ]
  }
 ],
 "metadata": {
  "kernelspec": {
   "display_name": "Python 3 (ipykernel)",
   "language": "python",
   "name": "python3"
  },
  "language_info": {
   "codemirror_mode": {
    "name": "ipython",
    "version": 3
   },
   "file_extension": ".py",
   "mimetype": "text/x-python",
   "name": "python",
   "nbconvert_exporter": "python",
   "pygments_lexer": "ipython3",
   "version": "3.11.2"
  }
 },
 "nbformat": 4,
 "nbformat_minor": 5
}
